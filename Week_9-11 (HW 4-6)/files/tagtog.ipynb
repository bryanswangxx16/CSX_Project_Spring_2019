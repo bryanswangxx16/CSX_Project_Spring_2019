{
 "cells": [
  {
   "cell_type": "code",
   "execution_count": 62,
   "metadata": {},
   "outputs": [
    {
     "name": "stdout",
     "output_type": "stream",
     "text": [
      "No input type defined\n"
     ]
    }
   ],
   "source": [
    "import requests\n",
    "\n",
    "tagtogAPIUrl = \"https://www.tagtog.net/-api/documents/v1\"\n",
    "\n",
    "auth = requests.auth.HTTPBasicAuth(username='bryanswangxx16', password='Xx16984357')\n",
    "params = {'project':'Reuters', 'owner': 'bryanswangxx16',  'output':'entitiesonlyclassestsv'}\n",
    "response = requests.get(tagtogAPIUrl, params=params, auth=auth)\n",
    "print(response.text)"
   ]
  },
  {
   "cell_type": "code",
   "execution_count": 1,
   "metadata": {},
   "outputs": [],
   "source": [
    "import pandas as pd\n",
    "\n",
    "# positive = pd.read_excel('/mnt/c/Users/bryan/OneDrive/Desktop/LoughranMcDonald_SentimentWordLists_2018.xlsx', sheet_name='Positive')\n",
    "# negative = pd.read_excel('/mnt/c/Users/bryan/OneDrive/Desktop/LoughranMcDonald_SentimentWordLists_2018.xlsx', sheet_name='Negative')\n",
    "# uncertain = pd.read_excel('/mnt/c/Users/bryan/OneDrive/Desktop/LoughranMcDonald_SentimentWordLists_2018.xlsx', sheet_name='Uncertainty')"
   ]
  },
  {
   "cell_type": "code",
   "execution_count": 39,
   "metadata": {},
   "outputs": [],
   "source": [
    "# positive.to_csv('/mnt/c/Users/bryan/OneDrive/Desktop/Positive.tsv', sep='\\t',index=False,header=False)\n",
    "# negative.to_csv('/mnt/c/Users/bryan/OneDrive/Desktop/Negative.tsv', sep='\\t',index=False,header=False)\n",
    "# uncertain.to_csv('/mnt/c/Users/bryan/OneDrive/Desktop/Uncertain.tsv', sep='\\t',index=False,header=False)"
   ]
  },
  {
   "cell_type": "code",
   "execution_count": 2,
   "metadata": {},
   "outputs": [],
   "source": [
    "new = pd.read_csv('/mnt/c/Users/bryan/OneDrive/Desktop/Sentiment/test.tsv', sep='\\t')"
   ]
  },
  {
   "cell_type": "code",
   "execution_count": 8,
   "metadata": {},
   "outputs": [],
   "source": [
    "new.to_csv('/mnt/c/Users/bryan/OneDrive/Desktop/word_list.csv')"
   ]
  },
  {
   "cell_type": "code",
   "execution_count": null,
   "metadata": {},
   "outputs": [],
   "source": []
  }
 ],
 "metadata": {
  "kernelspec": {
   "display_name": "Python 3",
   "language": "python",
   "name": "python3"
  },
  "language_info": {
   "codemirror_mode": {
    "name": "ipython",
    "version": 3
   },
   "file_extension": ".py",
   "mimetype": "text/x-python",
   "name": "python",
   "nbconvert_exporter": "python",
   "pygments_lexer": "ipython3",
   "version": "3.7.3"
  }
 },
 "nbformat": 4,
 "nbformat_minor": 2
}
