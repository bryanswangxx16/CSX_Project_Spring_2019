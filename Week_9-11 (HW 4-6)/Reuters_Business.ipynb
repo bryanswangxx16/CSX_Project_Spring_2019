{
 "cells": [
  {
   "cell_type": "code",
   "execution_count": 1,
   "metadata": {},
   "outputs": [],
   "source": [
    "import pandas as pd\n",
    "import datetime as dt\n",
    "import numpy as np\n",
    "import requests\n",
    "import time\n",
    "from bs4 import BeautifulSoup\n",
    "import pandas_datareader.data as web\n",
    "import re"
   ]
  },
  {
   "cell_type": "code",
   "execution_count": null,
   "metadata": {},
   "outputs": [
    {
     "name": "stdout",
     "output_type": "stream",
     "text": [
      "270 271 272 273 274 275 276 277 278 279 280 281 282 283 284 285 286 287 288 289 290 291 292 293 294 295 296 297 298 299 300 301 302 303 304 305 306 307 308 309 310 311 312 313 314 315 316 317 318 319 320 321 322 323 324 325 326 327 328 329 330 331 332 333 334 335 336 337 338 339 340 341 342 343 344 345 346 347 348 349 350 351 352 353 354 355 356 357 358 359 360 361 362 363 364 365 366 367 368 369 370 371 372 373 374 375 376 377 378 379 380 381 382 383 384 385 386 387 388 389 390 391 392 393 394 395 396 397 398 399 400 401 402 403 404 405 406 407 408 409 410 411 412 413 414 415 416 417 418 419 420 421 422 423 424 425 426 427 428 429 430 431 432 433 434 435 436 437 438 439 440 441 442 443 444 445 446 447 448 449 450 451 452 453 454 455 456 457 458 459 460 461 462 463 464 465 466 467 468 469 470 471 472 473 474 475 476 477 478 479 480 481 482 "
     ]
    }
   ],
   "source": [
    "# grab links to news articles from reuter's archive page\n",
    "# ten+ articles are displayed on each page\n",
    "url_links = []\n",
    "for i in range(270,3277):\n",
    "    try:\n",
    "        url = 'https://www.reuters.com/news/archive/businessnews?view=page&page=' + str(i) + '&pageSize=10'\n",
    "#         print(url)\n",
    "        html = requests.get(url)\n",
    "        content = html.content\n",
    "        content.decode().strip().replace('\\t','').split('\\n')\n",
    "        soup = BeautifulSoup(content, \"html.parser\")\n",
    "        for tags in soup.find_all('a'):\n",
    "            if re.search('article', tags['href']):\n",
    "                url_links.append(tags['href'])\n",
    "        print(i, end = ' ')\n",
    "    except:\n",
    "        continue\n",
    "            \n",
    "# some linkes may be duplicated thus we only select those that only appear once\n",
    "final_urls = []\n",
    "for url in url_links:\n",
    "    if url not in final_urls:\n",
    "        final_urls.append(url)\n",
    "print('Articles Count:', len(final_urls))"
   ]
  },
  {
   "cell_type": "code",
   "execution_count": null,
   "metadata": {},
   "outputs": [],
   "source": [
    "# retreive the title, publish time and content for each article\n",
    "\n",
    "title_all = []\n",
    "time_all = []\n",
    "content_all = []\n",
    "url_all = []\n",
    "\n",
    "count = 0\n",
    "for url in final_urls:\n",
    "    try:\n",
    "        link = 'https://www.reuters.com' + url\n",
    "        page = requests.get(link).content\n",
    "        soup = BeautifulSoup(page, \"html.parser\")\n",
    "        newsTitle = soup.title.text\n",
    "        print(count, end = ' ')\n",
    "        newsTime = soup.find_all(\"div\", {\"class\": 'ArticleHeader_date'})[0].text\n",
    "        newsContent = ''\n",
    "        for tag in soup.find_all('p'):\n",
    "            newsContent += tag.text\n",
    "\n",
    "        title_all.append(newsTitle)\n",
    "        time_all.append(newsTime)\n",
    "        content_all.append(newsContent)\n",
    "        url_all.append(link)\n",
    "        file = pd.DataFrame({'Title' : title_all, 'Time':time_all, 'Content':content_all, 'Link':url_all})\n",
    "        file['Date'] = [x.split('/')[0] for x in file['Time'].tolist()]\n",
    "        file['Date'] = pd.to_datetime(file['Date'])\n",
    "        file.sort_values(['Date'], inplace = True)\n",
    "\n",
    "        file['Len'] = [len(x) for x in file['Content']]\n",
    "        file = file[file['Len'] >= 600]\n",
    "\n",
    "        file.to_csv('Reuters_Business.csv')\n",
    "        count += 1\n",
    "        \n",
    "    except:\n",
    "        continue\n",
    "\n",
    "# remove spaces infront of titles\n",
    "# title_all = [x.lstrip() for x in title_all]"
   ]
  }
 ],
 "metadata": {
  "kernelspec": {
   "display_name": "Python 3",
   "language": "python",
   "name": "python3"
  },
  "language_info": {
   "codemirror_mode": {
    "name": "ipython",
    "version": 3
   },
   "file_extension": ".py",
   "mimetype": "text/x-python",
   "name": "python",
   "nbconvert_exporter": "python",
   "pygments_lexer": "ipython3",
   "version": "3.7.3"
  }
 },
 "nbformat": 4,
 "nbformat_minor": 2
}
